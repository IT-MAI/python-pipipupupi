{
 "cells": [
  {
   "cell_type": "code",
   "execution_count": 3,
   "id": "26f05fbd",
   "metadata": {},
   "outputs": [
    {
     "name": "stdout",
     "output_type": "stream",
     "text": [
      "2\n",
      "3\n",
      "3 2\n",
      "123\n",
      "6\n",
      "234\n",
      "123\n",
      "234123\n",
      "123\n",
      "103\n",
      "123\n",
      "321\n"
     ]
    }
   ],
   "source": [
    "# №1\n",
    "a = int(input())\n",
    "b = int(input())\n",
    "c = a\n",
    "a = b\n",
    "b = c\n",
    "print (a, b)\n",
    "\n",
    "# №2\n",
    "a = int(input())\n",
    "c = 1\n",
    "while a > 0:\n",
    "    c = c*(a%10)\n",
    "    a = a // 10\n",
    "print (c)\n",
    "\n",
    "# №3\n",
    "a = input()\n",
    "b = input()\n",
    "c = a + b\n",
    "print (int(c))\n",
    "\n",
    "# №4\n",
    "a = int(input())\n",
    "a1 = a // 100\n",
    "a3 = a % 10\n",
    "a = str(a1) + '0' +str(a3)\n",
    "print (a)\n",
    "\n",
    "# №5\n",
    "a = int(input())\n",
    "b = str(0)\n",
    "while a > 0:\n",
    "    c = str(a % 10)\n",
    "    a = a // 10\n",
    "    b = b + c\n",
    "print(int(b))\n"
   ]
  },
  {
   "cell_type": "code",
   "execution_count": null,
   "id": "0e44dd89",
   "metadata": {},
   "outputs": [],
   "source": []
  }
 ],
 "metadata": {
  "kernelspec": {
   "display_name": "Python 3",
   "language": "python",
   "name": "python3"
  },
  "language_info": {
   "codemirror_mode": {
    "name": "ipython",
    "version": 3
   },
   "file_extension": ".py",
   "mimetype": "text/x-python",
   "name": "python",
   "nbconvert_exporter": "python",
   "pygments_lexer": "ipython3",
   "version": "3.8.8"
  }
 },
 "nbformat": 4,
 "nbformat_minor": 5
}
