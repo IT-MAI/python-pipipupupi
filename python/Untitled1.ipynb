{
 "cells": [
  {
   "cell_type": "code",
   "execution_count": 4,
   "id": "0e641fb8",
   "metadata": {},
   "outputs": [
    {
     "name": "stdout",
     "output_type": "stream",
     "text": [
      "10\n",
      "13\n",
      "1 3\n",
      "198\n",
      "3 : 18\n",
      "2345\n",
      "NO\n",
      "8\n",
      "4\n",
      "85\n",
      "4\n",
      "1\n",
      "3\n",
      "5\n",
      "2\n",
      "NO\n"
     ]
    }
   ],
   "source": [
    "#№1\n",
    "\n",
    "n = int(input())\n",
    "k = int(input())\n",
    "print (k//n, k%n)\n",
    "\n",
    "#№2\n",
    "\n",
    "n = int(input())\n",
    "ch = n//60\n",
    "mn = n % 60\n",
    "while ch > 23:\n",
    "    ch -= 24\n",
    "print (ch, ':',mn)\n",
    "\n",
    "#№3\n",
    "\n",
    "n = int(input())\n",
    "if (n%4==0 and n%100!=0) or n%400==0:\n",
    "    print('YES')\n",
    "else:\n",
    "    print ('NO')\n",
    "\n",
    "#№4\n",
    "\n",
    "a = int(input())\n",
    "b = int(input())\n",
    "c = int(input())\n",
    "print(min(a, b, c))\n",
    "\n",
    "#№5\n",
    "\n",
    "sk1 = int(input())\n",
    "sb1 = int(input())\n",
    "sk2 = int(input())\n",
    "sb2 = int(input())\n",
    "if sk1%2==0 and sk2%2==0:\n",
    "    if sb1%2 == sb2%2:\n",
    "        print ('YES')\n",
    "    else:\n",
    "        print ('NO')\n",
    "elif sk1%2!=0 and sk2%2==0:\n",
    "    if sb1%2 != sb2%2:\n",
    "        print ('YES')\n",
    "    else:\n",
    "        print ('NO')\n",
    "elif sk1%2==0 and sk2%2!=0:\n",
    "    if sb1%2 != sb2%2:\n",
    "        print ('YES')\n",
    "    else:\n",
    "        print ('NO')\n",
    "elif sk1%2!=0 and sk2%2!=0:\n",
    "    if sb1%2 == sb2%2:\n",
    "        print ('YES')\n",
    "    else:\n",
    "        print ('NO')\n",
    "\n"
   ]
  },
  {
   "cell_type": "code",
   "execution_count": null,
   "id": "0985fec8",
   "metadata": {},
   "outputs": [],
   "source": []
  }
 ],
 "metadata": {
  "kernelspec": {
   "display_name": "Python 3",
   "language": "python",
   "name": "python3"
  },
  "language_info": {
   "codemirror_mode": {
    "name": "ipython",
    "version": 3
   },
   "file_extension": ".py",
   "mimetype": "text/x-python",
   "name": "python",
   "nbconvert_exporter": "python",
   "pygments_lexer": "ipython3",
   "version": "3.8.8"
  }
 },
 "nbformat": 4,
 "nbformat_minor": 5
}
