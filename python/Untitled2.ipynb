{
 "cells": [
  {
   "cell_type": "code",
   "execution_count": null,
   "id": "472341e6",
   "metadata": {},
   "outputs": [
    {
     "name": "stdout",
     "output_type": "stream",
     "text": [
      "4\n",
      "[1, 2, 3, 2, 2, 5]\n",
      "6\n",
      "5\n",
      "4\n",
      "3\n",
      "5\n",
      "9\n",
      "[7, 8, 7, 5, 8]\n",
      "4\n",
      "[3, 6, 4, 4, 8, 0, 7, 9]\n"
     ]
    }
   ],
   "source": [
    "#№1\n",
    "a = [1, 2, 3, 2, 4, 2, 5]\n",
    "k = int(input())\n",
    "for i in a:\n",
    "    if k == i:\n",
    "        a.remove(k)\n",
    "print(a)\n",
    "\n",
    "#№2\n",
    "#не понимаю\n",
    "\n",
    "#№3\n",
    "a = [5,4,7,4,6,4,3,0]\n",
    "m = max(a)\n",
    "a.remove(m)\n",
    "print (max(a))\n",
    "\n",
    "#№4\n",
    "a = [6,6,8,4,8,6,3,5,5]\n",
    "c = 0\n",
    "for i in range(len(a)):\n",
    "    for j in range(i + 1, len(a)):\n",
    "        if a[i] == a[j]:\n",
    "            c += 1\n",
    "print(c)\n",
    "\n",
    "#№5\n",
    "a = [7,6,8,6,4,3,5,7,9,8]\n",
    "for i in range(len(a)):\n",
    "    c = 0\n",
    "    for j in range(len(a)):\n",
    "        if a[i] == a[j]:\n",
    "            c+=1\n",
    "    if c == 1:\n",
    "        print (a[i])\n",
    "\n",
    "#№6\n",
    "a = [8,7,5,7,8]\n",
    "for i in range(1, len(a), 2):\n",
    "    c = a[i-1]\n",
    "    a[i-1] = a[i]\n",
    "    a[i] = c\n",
    "print(a)\n",
    "\n",
    "#№7\n",
    "a = [3,6,4,4,7,8,0,7,9]\n",
    "k = int(input())\n",
    "for i in range(k+1, len(a)):\n",
    "    a[i-1] = a[i]\n",
    "a.pop()\n",
    "print(a)\n",
    "\n",
    "#№8\n",
    "a = [4,5,6,7,6,8,0]\n",
    "k = int(input())\n",
    "c = int(input())\n",
    "a.append(0)\n",
    "for i in range(len(a)-1, k, -1):\n",
    "    a[i] = a[i-1]\n",
    "a[k] = c\n",
    "print(a)"
   ]
  },
  {
   "cell_type": "code",
   "execution_count": null,
   "id": "5dd3f3db",
   "metadata": {},
   "outputs": [],
   "source": []
  }
 ],
 "metadata": {
  "kernelspec": {
   "display_name": "Python 3",
   "language": "python",
   "name": "python3"
  },
  "language_info": {
   "codemirror_mode": {
    "name": "ipython",
    "version": 3
   },
   "file_extension": ".py",
   "mimetype": "text/x-python",
   "name": "python",
   "nbconvert_exporter": "python",
   "pygments_lexer": "ipython3",
   "version": "3.8.8"
  }
 },
 "nbformat": 4,
 "nbformat_minor": 5
}
