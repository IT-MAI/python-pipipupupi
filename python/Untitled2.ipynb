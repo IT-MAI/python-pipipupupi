{
 "cells": [
  {
   "cell_type": "code",
   "execution_count": null,
   "id": "d7414125",
   "metadata": {},
   "outputs": [],
   "source": [
    "\n",
    "    print(\"введите число 1\")\n",
    "    num1=float(input())\n",
    "    print(\"выберете действие\")\n",
    "    d=input()\n",
    "    print(\"введите число 2\")\n",
    "    num2=float(input())\n",
    "    if d == \"+\":\n",
    "        print(num1+num2)\n",
    "    if d ==\"-\":\n",
    "        print(num1-num2)\n",
    "    if d ==\"*\":\n",
    "        print(num1*num2)\n",
    "    if d == \"/\":\n",
    "        print(num1/num2)"
   ]
  }
 ],
 "metadata": {
  "kernelspec": {
   "display_name": "Python 3",
   "language": "python",
   "name": "python3"
  },
  "language_info": {
   "codemirror_mode": {
    "name": "ipython",
    "version": 3
   },
   "file_extension": ".py",
   "mimetype": "text/x-python",
   "name": "python",
   "nbconvert_exporter": "python",
   "pygments_lexer": "ipython3",
   "version": "3.8.8"
  }
 },
 "nbformat": 4,
 "nbformat_minor": 5
}
