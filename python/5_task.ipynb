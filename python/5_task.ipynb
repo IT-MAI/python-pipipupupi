{
 "cells": [
  {
   "cell_type": "markdown",
   "id": "85755de8",
   "metadata": {},
   "source": [
    "# Самостоятельное задание #5\n",
    "\n",
    "\n",
    "### Задание 1\n",
    "\n",
    "Допишите функцию, которая принимает список, выбирает из него все элементы с четным индексом и возвращает их в виде списка."
   ]
  },
  {
   "cell_type": "code",
   "execution_count": 2,
   "id": "6ef6d9b3",
   "metadata": {},
   "outputs": [
    {
     "name": "stdout",
     "output_type": "stream",
     "text": [
      "[3, 2, 0, 3]\n"
     ]
    }
   ],
   "source": [
    "a=[3,4,2,5,0,6,3]\n",
    "b=[]\n",
    "b=a[::2]\n",
    "print (b)"
   ]
  },
  {
   "cell_type": "markdown",
   "id": "443974c9",
   "metadata": {},
   "source": [
    "### Задание 2\n",
    "\n",
    "Допишите функцию, которая принимает список, выбирает из него все элементы, которые больше предыдущего и возвращает их в виде списка.\n"
   ]
  },
  {
   "cell_type": "code",
   "execution_count": 4,
   "id": "3a8cf925",
   "metadata": {},
   "outputs": [
    {
     "name": "stdout",
     "output_type": "stream",
     "text": [
      "[5, 6, 5, 8]\n"
     ]
    }
   ],
   "source": [
    "a=[4,5,6,3,5,8]\n",
    "b=[]\n",
    "for i in range(len(a)-1):\n",
    "    if a[i]<a[i+1]:\n",
    "        b.append(a[i+1])\n",
    "print (b)\n",
    "        "
   ]
  },
  {
   "cell_type": "markdown",
   "id": "34524ede",
   "metadata": {},
   "source": [
    "### Задание 3\n",
    "\n",
    "Допишите функцию, которая принимает список, меняет местами наибольший и наименьший элементы и возвращает этот список."
   ]
  },
  {
   "cell_type": "code",
   "execution_count": 6,
   "id": "34d2beae",
   "metadata": {},
   "outputs": [
    {
     "name": "stdout",
     "output_type": "stream",
     "text": [
      "[4, 5, 6, 8, 5, 3]\n"
     ]
    }
   ],
   "source": [
    "a=[4,5,6,3,5,8]\n",
    "maks=0\n",
    "imaks=-1\n",
    "meen=1000\n",
    "imeen=-1\n",
    "for i in range(len(a)):\n",
    "    if maks<a[i]:\n",
    "        maks=a[i]\n",
    "        imaks=i\n",
    "    if meen>a[i]:\n",
    "        meen=a[i]\n",
    "        imeen=i\n",
    "c=a[imaks]\n",
    "a[imaks]=a[imeen]\n",
    "a[imeen]=c\n",
    "print(a)\n",
    "    "
   ]
  },
  {
   "cell_type": "code",
   "execution_count": null,
   "id": "d50059c2",
   "metadata": {},
   "outputs": [],
   "source": []
  }
 ],
 "metadata": {
  "kernelspec": {
   "display_name": "Python 3",
   "language": "python",
   "name": "python3"
  },
  "language_info": {
   "codemirror_mode": {
    "name": "ipython",
    "version": 3
   },
   "file_extension": ".py",
   "mimetype": "text/x-python",
   "name": "python",
   "nbconvert_exporter": "python",
   "pygments_lexer": "ipython3",
   "version": "3.8.8"
  }
 },
 "nbformat": 4,
 "nbformat_minor": 5
}
